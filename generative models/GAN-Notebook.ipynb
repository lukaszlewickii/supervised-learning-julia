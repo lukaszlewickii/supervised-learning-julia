{
 "cells": [
  {
   "cell_type": "markdown",
   "metadata": {},
   "source": [
    "# GAN-70-Lines-of-Julia  \n",
    "This notebook is a demonstration for a simple GAN training on MNIST by using Julia. It will highlight how one can program a machine learning model in Julia as if just writing a paper. Let's get started!"
   ]
  },
  {
   "cell_type": "markdown",
   "metadata": {},
   "source": [
    "## Setup\n",
    "We will use the deep learning package Knet.jl to compute gradients for the networks and use GPU arrays if a gpu device is available."
   ]
  },
  {
   "cell_type": "code",
   "execution_count": 1,
   "metadata": {},
   "outputs": [
    {
     "name": "stderr",
     "output_type": "stream",
     "text": [
      "┌ Warning: `Pkg.dir(pkgname, paths...)` is deprecated; instead, do `import Knet; joinpath(dirname(pathof(Knet)), \"..\", paths...)`.\n",
      "└ @ Pkg.API /buildworker/worker/package_linux64/build/usr/share/julia/stdlib/v1.0/Pkg/src/API.jl:472\n"
     ]
    },
    {
     "data": {
      "text/plain": [
       "KnetArray{Float32,N} where N"
      ]
     },
     "execution_count": 1,
     "metadata": {},
     "output_type": "execute_result"
    }
   ],
   "source": [
    "using Pkg; for p in (\"Knet\",\"Colors\",\"Images\",\"ImageMagick\"); haskey(Pkg.installed(),p) || Pkg.add(p); end #installs required packages\n",
    "using Knet, Colors, Images, Statistics\n",
    "include(Pkg.dir(\"Knet\",\"data\",\"mnist.jl\")) #MNIST data loader functions\n",
    "global atype = gpu() >= 0 ? KnetArray{Float32} : Array{Float32}"
   ]
  },
  {
   "cell_type": "markdown",
   "metadata": {},
   "source": [
    "## MLP Model  \n",
    "Both for Generator and Discriminator, generic multilayer perceptrons are needed. $\\mathbf{w}$ is an array that keeps the model paramaters and $\\mathbf{x}$ is the input. Keyword argument $\\mathbf{p}$ is the dropout probability, `activation` is the activation function used in the hidden layers, and `outputactivation` is the activation function used in the output layer. We also define `elu` activation function."
   ]
  },
  {
   "cell_type": "code",
   "execution_count": 2,
   "metadata": {},
   "outputs": [
    {
     "data": {
      "text/plain": [
       "mlp (generic function with 1 method)"
      ]
     },
     "execution_count": 2,
     "metadata": {},
     "output_type": "execute_result"
    }
   ],
   "source": [
    "function mlp(w,x;p=0.0,activation=elu,outputactivation=sigm)\n",
    "    for i=1:2:length(w)\n",
    "        x = w[i]*dropout(mat(x),p) .+ w[i+1] # mat() used for flattening images to a vector.\n",
    "        i<length(w)-1 && (x = activation.(x)) \n",
    "    end\n",
    "    return outputactivation.(x) #output layer\n",
    "end"
   ]
  },
  {
   "cell_type": "markdown",
   "metadata": {},
   "source": [
    "## Discriminator and Generator Networks\n",
    "\n",
    "Discriminator and Generator networks are defined as `D` and `G` respectively. Loss functions `𝑱d` and `𝑱g` are defined according to the equation X in GAN paper. Sample noise function `𝒩` is a normal distribution. Loss functions are defined according to the equations in Algorithm 1 section of the [paper](https://arxiv.org/abs/1406.2661 \"arXiv\"). We use a slightly modified generator loss according to [GAN tricks](https://github.com/soumith/ganhacks#2-a-modified-loss-function \"GAN Tricks\").\n",
    "$$ J_d = -\\frac{1}{m} \\sum_{i=1}^{m} log(D(x^{(i)}) + log(1-D(G(z^{(i)})))$$\n",
    "$$ J_g = -\\frac{1}{m} \\sum_{i=1}^{m} log(D(G(z^{(i)}))) $$ \n",
    "\n",
    "*`𝜀` is used to prevent log functions from resulting NaN values.\n"
   ]
  },
  {
   "cell_type": "code",
   "execution_count": 3,
   "metadata": {},
   "outputs": [
    {
     "data": {
      "text/plain": [
       "𝒩 (generic function with 1 method)"
      ]
     },
     "execution_count": 3,
     "metadata": {},
     "output_type": "execute_result"
    }
   ],
   "source": [
    "global const 𝜀=Float32(1e-8)\n",
    "D(w,x;p=0.0) = mlp(w,x;p=p)\n",
    "G(w,z;p=0.0) = mlp(w,z;p=p) \n",
    "𝑱d(𝗪d,x,Gz) = -mean(log.(D(𝗪d,x) .+ 𝜀)+log.((1+𝜀) .- D(𝗪d,Gz)))/2   \n",
    "𝑱g(𝗪g, 𝗪d, z) = -mean(log.(D(𝗪d,G(𝗪g,z)) .+ 𝜀))           \n",
    "𝒩(input, batch) = atype(randn(Float32, input, batch))  #SampleNoise"
   ]
  },
  {
   "cell_type": "markdown",
   "metadata": {},
   "source": [
    "## Gradient Functions\n",
    "\n",
    "For backpropogation, we need the derivatives of loss functions according to the model parameters. This is where Knet comes to the scene. The `Knet.grad` function calculates gradient according to the first parameter of any function. So,"
   ]
  },
  {
   "cell_type": "code",
   "execution_count": 4,
   "metadata": {},
   "outputs": [
    {
     "data": {
      "text/plain": [
       "(::getfield(AutoGrad, Symbol(\"#gradfun#8\")){getfield(AutoGrad, Symbol(\"##gradfun#6#7\")){typeof(𝑱g),Int64,Bool}}) (generic function with 1 method)"
      ]
     },
     "execution_count": 4,
     "metadata": {},
     "output_type": "execute_result"
    }
   ],
   "source": [
    "∇d  = grad(𝑱d) # Discriminator gradient\n",
    "∇g  = grad(𝑱g) # Generator gradient"
   ]
  },
  {
   "cell_type": "markdown",
   "metadata": {},
   "source": [
    "## Parameter Initialization\n",
    "It is a generic weight initialization function for MLPs. For each layer, it creates a weight matrix and bias vector, then add them to $W$. "
   ]
  },
  {
   "cell_type": "code",
   "execution_count": 5,
   "metadata": {},
   "outputs": [
    {
     "data": {
      "text/plain": [
       "initweights (generic function with 1 method)"
      ]
     },
     "execution_count": 5,
     "metadata": {},
     "output_type": "execute_result"
    }
   ],
   "source": [
    "function initweights(hidden,input, output)\n",
    "    𝗪 = Any[];\n",
    "    x = input\n",
    "    for h in [hidden... output]\n",
    "        push!(𝗪, atype(xavier(h,x)), atype(zeros(h, 1))) #FC Layers weights and bias\n",
    "        x = h\n",
    "    end\n",
    "    return 𝗪  #return model params\n",
    "end"
   ]
  },
  {
   "cell_type": "markdown",
   "metadata": {},
   "source": [
    "## Generate and Display\n",
    "\n",
    "This function generates a random `number` of images and displays them."
   ]
  },
  {
   "cell_type": "code",
   "execution_count": 6,
   "metadata": {},
   "outputs": [
    {
     "data": {
      "text/plain": [
       "generate_and_show (generic function with 1 method)"
      ]
     },
     "execution_count": 6,
     "metadata": {},
     "output_type": "execute_result"
    }
   ],
   "source": [
    "function generate_and_show(𝗪,number,𝞗)\n",
    "    Gz    = Array(G(𝗪[1], 𝒩(𝞗[:ginp], number))) .> 0.5\n",
    "    Gz    = reshape(Gz, (28, 28, number))\n",
    "    L     = floor(Int, sqrt(number))\n",
    "    grid  = []\n",
    "    for i = 1:L:number\n",
    "        push!(grid, reshape(permutedims(Gz[:,:,i:i+L-1], (2,3,1)), (L*28,28)))\n",
    "    end\n",
    "    display(Gray.(hcat(grid...)))\n",
    "end"
   ]
  },
  {
   "cell_type": "markdown",
   "metadata": {},
   "source": [
    "## Train & Test Function\n",
    "\n",
    "This `runmodel` function is implementing training procedure described in GAN paper. It first update discriminator with specified optimizer, then update generator network. Same function can be used in test mode by passing `train` argument as false. In the test mode it calculates losses instead of gradients."
   ]
  },
  {
   "cell_type": "code",
   "execution_count": 7,
   "metadata": {},
   "outputs": [
    {
     "data": {
      "text/plain": [
       "runmodel (generic function with 1 method)"
      ]
     },
     "execution_count": 7,
     "metadata": {},
     "output_type": "execute_result"
    }
   ],
   "source": [
    "function runmodel(𝗪, data, 𝞗; dtst=nothing, optim=nothing, train=false, saveinterval=20)\n",
    "    gloss = dloss = total=0.0;\n",
    "    B = 𝞗[:batchsize]\n",
    "    for i=1:(train ? 𝞗[:epochs] : 1)\n",
    "        for (x,_) in data\n",
    "            total+=2B\n",
    "            Gz = G(𝗪[1], 𝒩(𝞗[:ginp], B)) #Generate Fake Images\n",
    "            train ? update!(𝗪[2], ∇d(𝗪[2],x,Gz), optim[2]) : (dloss += 2B*𝑱d(𝗪[2], x, Gz))\n",
    "            \n",
    "            z=𝒩(𝞗[:ginp],2B) #Sample z from Noise\n",
    "            train ? update!(𝗪[1], ∇g(𝗪[1], 𝗪[2], z), optim[1]) : (gloss += 2B*𝑱g(𝗪[1],𝗪[2],z))       \n",
    "        end\n",
    "        train ? runmodel(𝗪, dtst, 𝞗; train=false) : println((gloss/total, dloss/total))\n",
    "        i % saveinterval == 0 && generate_and_show(𝗪, 100, 𝞗)  # save 10 images\n",
    "    end\n",
    "end"
   ]
  },
  {
   "cell_type": "markdown",
   "metadata": {},
   "source": [
    "## Run\n",
    "We will train our model 80 epochs and display resulted images in each 20 epoch. The log format here is (generator loss, discriminator loss)."
   ]
  },
  {
   "cell_type": "code",
   "execution_count": 9,
   "metadata": {
    "scrolled": false
   },
   "outputs": [
    {
     "data": {
      "image/png": "[encoded data removed]",
      "text/plain": [
       "280×280 Array{Gray{Bool},2} with eltype Gray{Bool}:\n",
       " Gray{Bool}(true)   Gray{Bool}(true)   …  Gray{Bool}(false)\n",
       " Gray{Bool}(false)  Gray{Bool}(false)     Gray{Bool}(false)\n",
       " Gray{Bool}(true)   Gray{Bool}(false)     Gray{Bool}(true) \n",
       " Gray{Bool}(false)  Gray{Bool}(true)      Gray{Bool}(true) \n",
       " Gray{Bool}(true)   Gray{Bool}(false)     Gray{Bool}(true) \n",
       " Gray{Bool}(false)  Gray{Bool}(true)   …  Gray{Bool}(false)\n",
       " Gray{Bool}(false)  Gray{Bool}(false)     Gray{Bool}(true) \n",
       " Gray{Bool}(true)   Gray{Bool}(true)      Gray{Bool}(false)\n",
       " Gray{Bool}(false)  Gray{Bool}(true)      Gray{Bool}(false)\n",
       " Gray{Bool}(true)   Gray{Bool}(true)      Gray{Bool}(true) \n",
       " Gray{Bool}(false)  Gray{Bool}(false)  …  Gray{Bool}(true) \n",
       " Gray{Bool}(true)   Gray{Bool}(false)     Gray{Bool}(true) \n",
       " Gray{Bool}(false)  Gray{Bool}(false)     Gray{Bool}(true) \n",
       " ⋮                                     ⋱                   \n",
       " Gray{Bool}(true)   Gray{Bool}(true)      Gray{Bool}(false)\n",
       " Gray{Bool}(true)   Gray{Bool}(true)      Gray{Bool}(true) \n",
       " Gray{Bool}(false)  Gray{Bool}(false)  …  Gray{Bool}(false)\n",
       " Gray{Bool}(false)  Gray{Bool}(true)      Gray{Bool}(false)\n",
       " Gray{Bool}(true)   Gray{Bool}(false)     Gray{Bool}(false)\n",
       " Gray{Bool}(true)   Gray{Bool}(false)     Gray{Bool}(true) \n",
       " Gray{Bool}(false)  Gray{Bool}(true)      Gray{Bool}(false)\n",
       " Gray{Bool}(true)   Gray{Bool}(true)   …  Gray{Bool}(false)\n",
       " Gray{Bool}(false)  Gray{Bool}(false)     Gray{Bool}(false)\n",
       " Gray{Bool}(false)  Gray{Bool}(true)      Gray{Bool}(true) \n",
       " Gray{Bool}(false)  Gray{Bool}(false)     Gray{Bool}(false)\n",
       " Gray{Bool}(true)   Gray{Bool}(false)     Gray{Bool}(false)"
      ]
     },
     "metadata": {},
     "output_type": "display_data"
    },
    {
     "name": "stdout",
     "output_type": "stream",
     "text": [
      "(0.7070182002125642, 0.7129692123868526)\n",
      "(2.6972159368869586, 0.14585052000788543)\n",
      "(3.1427391599386167, 0.3839751585888175)\n",
      "(3.0018755396207175, 0.28540667600165576)\n",
      "(2.4193741717399697, 0.25220070901111913)\n",
      "(2.714185036145724, 0.2753392961115027)\n",
      "(2.3356421414094095, 0.2947772457622565)\n",
      "(2.6071833769480386, 0.3119419638115244)\n",
      "(2.715550125409395, 0.2807362637697504)\n",
      "(2.638071894645691, 0.26305022360518193)\n",
      "(3.221586035612302, 0.26055200561546743)\n",
      "(3.16395251873212, 0.25307850958779454)\n",
      "(3.4526335451847467, 0.1659754699525925)\n",
      "(3.8970454449837026, 0.2135153397296866)\n",
      "(4.0360427514100685, 0.23753360617690936)\n",
      "(4.6163972937143765, 0.28057341661769897)\n",
      "(4.7365608276465, 0.25558939514060813)\n",
      "(4.162439642808376, 0.2463607530002124)\n",
      "(3.903249970613382, 0.22100572519672987)\n",
      "(4.283539904997899, 0.32198881942372864)\n",
      "("
     ]
    },
    {
     "data": {
      "image/png": "[encoded data removed]",
      "text/plain": [
       "280×280 Array{Gray{Bool},2} with eltype Gray{Bool}:\n",
       " Gray{Bool}(false)  Gray{Bool}(false)  …  Gray{Bool}(false)\n",
       " Gray{Bool}(false)  Gray{Bool}(false)     Gray{Bool}(false)\n",
       " Gray{Bool}(false)  Gray{Bool}(false)     Gray{Bool}(false)\n",
       " Gray{Bool}(false)  Gray{Bool}(false)     Gray{Bool}(false)\n",
       " Gray{Bool}(false)  Gray{Bool}(false)     Gray{Bool}(false)\n",
       " Gray{Bool}(false)  Gray{Bool}(false)  …  Gray{Bool}(false)\n",
       " Gray{Bool}(false)  Gray{Bool}(false)     Gray{Bool}(false)\n",
       " Gray{Bool}(false)  Gray{Bool}(false)     Gray{Bool}(false)\n",
       " Gray{Bool}(false)  Gray{Bool}(false)     Gray{Bool}(false)\n",
       " Gray{Bool}(false)  Gray{Bool}(false)     Gray{Bool}(false)\n",
       " Gray{Bool}(false)  Gray{Bool}(false)  …  Gray{Bool}(false)\n",
       " Gray{Bool}(false)  Gray{Bool}(false)     Gray{Bool}(false)\n",
       " Gray{Bool}(false)  Gray{Bool}(false)     Gray{Bool}(false)\n",
       " ⋮                                     ⋱                   \n",
       " Gray{Bool}(false)  Gray{Bool}(false)     Gray{Bool}(false)\n",
       " Gray{Bool}(false)  Gray{Bool}(false)     Gray{Bool}(false)\n",
       " Gray{Bool}(false)  Gray{Bool}(false)  …  Gray{Bool}(false)\n",
       " Gray{Bool}(false)  Gray{Bool}(false)     Gray{Bool}(false)\n",
       " Gray{Bool}(false)  Gray{Bool}(false)     Gray{Bool}(false)\n",
       " Gray{Bool}(false)  Gray{Bool}(false)     Gray{Bool}(false)\n",
       " Gray{Bool}(false)  Gray{Bool}(false)     Gray{Bool}(false)\n",
       " Gray{Bool}(false)  Gray{Bool}(false)  …  Gray{Bool}(false)\n",
       " Gray{Bool}(false)  Gray{Bool}(false)     Gray{Bool}(false)\n",
       " Gray{Bool}(false)  Gray{Bool}(false)     Gray{Bool}(false)\n",
       " Gray{Bool}(false)  Gray{Bool}(false)     Gray{Bool}(false)\n",
       " Gray{Bool}(false)  Gray{Bool}(false)     Gray{Bool}(false)"
      ]
     },
     "metadata": {},
     "output_type": "display_data"
    },
    {
     "name": "stdout",
     "output_type": "stream",
     "text": [
      "3.9252934891443987, 0.30728288162022066)\n",
      "(3.5431383015253606, 0.2915211880507951)\n",
      "(3.666312500452384, 0.3384227947785686)\n",
      "(3.20049225901946, 0.3302836251946596)\n",
      "(3.059357313773571, 0.3308002264597095)\n",
      "(2.7812724174597325, 0.3287823430907268)\n",
      "(2.928862684048139, 0.34677521089235175)\n",
      "(2.652854778827765, 0.33236346766352654)\n",
      "(2.6760752544953275, 0.3308630677847526)\n",
      "(2.754337956508001, 0.33148658285156274)\n",
      "(2.594142747231019, 0.3392050064718112)\n",
      "(2.455210806467594, 0.3372390930278179)\n",
      "(2.818018090266448, 0.3410037870829304)\n",
      "(2.674627593694589, 0.3494075063424997)\n",
      "(2.634667009115219, 0.34120393527719456)\n",
      "(2.7111851550065555, 0.3536763884461461)\n",
      "(2.772063583899767, 0.360814557912258)\n",
      "(2.90674651051179, 0.3763349872703354)\n",
      "(2.6136230597129235, 0.34049034536553496)\n",
      "(2.78036498488524, 0.34493475545866364)\n",
      "("
     ]
    },
    {
     "data": {
      "image/png": "[encoded data removed]",
      "text/plain": [
       "280×280 Array{Gray{Bool},2} with eltype Gray{Bool}:\n",
       " Gray{Bool}(false)  Gray{Bool}(false)  …  Gray{Bool}(false)\n",
       " Gray{Bool}(false)  Gray{Bool}(false)     Gray{Bool}(false)\n",
       " Gray{Bool}(false)  Gray{Bool}(false)     Gray{Bool}(false)\n",
       " Gray{Bool}(false)  Gray{Bool}(false)     Gray{Bool}(false)\n",
       " Gray{Bool}(false)  Gray{Bool}(false)     Gray{Bool}(false)\n",
       " Gray{Bool}(false)  Gray{Bool}(false)  …  Gray{Bool}(false)\n",
       " Gray{Bool}(false)  Gray{Bool}(false)     Gray{Bool}(false)\n",
       " Gray{Bool}(false)  Gray{Bool}(false)     Gray{Bool}(false)\n",
       " Gray{Bool}(false)  Gray{Bool}(false)     Gray{Bool}(false)\n",
       " Gray{Bool}(false)  Gray{Bool}(false)     Gray{Bool}(false)\n",
       " Gray{Bool}(false)  Gray{Bool}(false)  …  Gray{Bool}(false)\n",
       " Gray{Bool}(false)  Gray{Bool}(false)     Gray{Bool}(false)\n",
       " Gray{Bool}(false)  Gray{Bool}(false)     Gray{Bool}(false)\n",
       " ⋮                                     ⋱                   \n",
       " Gray{Bool}(false)  Gray{Bool}(false)     Gray{Bool}(false)\n",
       " Gray{Bool}(false)  Gray{Bool}(false)     Gray{Bool}(false)\n",
       " Gray{Bool}(false)  Gray{Bool}(false)  …  Gray{Bool}(false)\n",
       " Gray{Bool}(false)  Gray{Bool}(false)     Gray{Bool}(false)\n",
       " Gray{Bool}(false)  Gray{Bool}(false)     Gray{Bool}(false)\n",
       " Gray{Bool}(false)  Gray{Bool}(false)     Gray{Bool}(false)\n",
       " Gray{Bool}(false)  Gray{Bool}(false)     Gray{Bool}(false)\n",
       " Gray{Bool}(false)  Gray{Bool}(false)  …  Gray{Bool}(false)\n",
       " Gray{Bool}(false)  Gray{Bool}(false)     Gray{Bool}(false)\n",
       " Gray{Bool}(false)  Gray{Bool}(false)     Gray{Bool}(false)\n",
       " Gray{Bool}(false)  Gray{Bool}(false)     Gray{Bool}(false)\n",
       " Gray{Bool}(false)  Gray{Bool}(false)     Gray{Bool}(false)"
      ]
     },
     "metadata": {},
     "output_type": "display_data"
    },
    {
     "name": "stdout",
     "output_type": "stream",
     "text": [
      "2.5133315049684963, 0.33060858864337206)\n",
      "(2.8660962528143172, 0.3613075128971384)\n",
      "(2.6848798462977777, 0.3406564880353518)\n",
      "(2.6033156445393195, 0.33214112032109344)\n",
      "(2.7740061657551007, 0.3419588938212165)\n",
      "(2.6678343010254397, 0.3305944459369549)\n",
      "(2.8780798415342965, 0.33968478178557676)\n",
      "(2.811693642383967, 0.33556619439369595)\n",
      "(2.8969312050403695, 0.3468700819768203)\n",
      "(2.771579799743799, 0.34334640627583635)\n",
      "(2.564284560007927, 0.34032854738716894)\n",
      "(2.731122597669944, 0.3277671412111093)\n",
      "(2.853467990190555, 0.330749364116062)\n",
      "(2.7829492466572003, 0.3274786518409084)\n",
      "(2.971490354110033, 0.33781160438098967)\n",
      "(3.0116113126277924, 0.3454614580871585)\n",
      "(3.184412360191345, 0.3593942236680633)\n",
      "(2.7643437492541776, 0.3205802728398106)\n",
      "(2.9332831425544543, 0.3383164644145813)\n",
      "(2.9161910521678434, 0.33831781944116723)\n",
      "("
     ]
    },
    {
     "data": {
      "image/png": "[encoded data removed]",
      "text/plain": [
       "280×280 Array{Gray{Bool},2} with eltype Gray{Bool}:\n",
       " Gray{Bool}(false)  Gray{Bool}(false)  …  Gray{Bool}(false)\n",
       " Gray{Bool}(false)  Gray{Bool}(false)     Gray{Bool}(false)\n",
       " Gray{Bool}(false)  Gray{Bool}(false)     Gray{Bool}(false)\n",
       " Gray{Bool}(false)  Gray{Bool}(false)     Gray{Bool}(false)\n",
       " Gray{Bool}(false)  Gray{Bool}(false)     Gray{Bool}(false)\n",
       " Gray{Bool}(false)  Gray{Bool}(false)  …  Gray{Bool}(false)\n",
       " Gray{Bool}(false)  Gray{Bool}(false)     Gray{Bool}(false)\n",
       " Gray{Bool}(false)  Gray{Bool}(false)     Gray{Bool}(false)\n",
       " Gray{Bool}(false)  Gray{Bool}(false)     Gray{Bool}(false)\n",
       " Gray{Bool}(false)  Gray{Bool}(false)     Gray{Bool}(false)\n",
       " Gray{Bool}(false)  Gray{Bool}(false)  …  Gray{Bool}(false)\n",
       " Gray{Bool}(false)  Gray{Bool}(false)     Gray{Bool}(false)\n",
       " Gray{Bool}(false)  Gray{Bool}(false)     Gray{Bool}(false)\n",
       " ⋮                                     ⋱                   \n",
       " Gray{Bool}(false)  Gray{Bool}(false)     Gray{Bool}(false)\n",
       " Gray{Bool}(false)  Gray{Bool}(false)     Gray{Bool}(false)\n",
       " Gray{Bool}(false)  Gray{Bool}(false)  …  Gray{Bool}(false)\n",
       " Gray{Bool}(false)  Gray{Bool}(false)     Gray{Bool}(false)\n",
       " Gray{Bool}(false)  Gray{Bool}(false)     Gray{Bool}(false)\n",
       " Gray{Bool}(false)  Gray{Bool}(false)     Gray{Bool}(false)\n",
       " Gray{Bool}(false)  Gray{Bool}(false)     Gray{Bool}(false)\n",
       " Gray{Bool}(false)  Gray{Bool}(false)  …  Gray{Bool}(false)\n",
       " Gray{Bool}(false)  Gray{Bool}(false)     Gray{Bool}(false)\n",
       " Gray{Bool}(false)  Gray{Bool}(false)     Gray{Bool}(false)\n",
       " Gray{Bool}(false)  Gray{Bool}(false)     Gray{Bool}(false)\n",
       " Gray{Bool}(false)  Gray{Bool}(false)     Gray{Bool}(false)"
      ]
     },
     "metadata": {},
     "output_type": "display_data"
    },
    {
     "name": "stdout",
     "output_type": "stream",
     "text": [
      "3.151806583007177, 0.37165971444203305)\n",
      "(2.9357387583989363, 0.33796678836911154)\n",
      "(2.936933030684789, 0.35445291919108385)\n",
      "(3.0510188318215885, 0.3344220131014784)\n",
      "(2.9858331756714063, 0.33541659449633116)\n",
      "(2.8453080226213503, 0.34141496141465044)\n",
      "(2.959984847368338, 0.3334491549250789)\n",
      "(2.9905369128936377, 0.330688509493111)\n",
      "(3.038562700534478, 0.3361558925647002)\n",
      "(2.897447336942722, 0.3328577483502718)\n",
      "(3.112598024117641, 0.34172045427541703)\n",
      "\n",
      "Stacktrace:\n",
      " [1] \u001b[1m#forw#4\u001b[22m\u001b[1m(\u001b[22m::Base.Iterators.Pairs{Union{},Union{},Tuple{},NamedTuple{(),Tuple{}}}, ::Function, ::Function, ::AutoGrad.Result{KnetArray{Float32,2}}, ::Vararg{Any,N} where N\u001b[1m)\u001b[22m at \u001b[1m/home/gridsan/eakyurek/.julia/packages/AutoGrad/eAmjh/src/core.jl:97\u001b[22m\n",
      " [2] \u001b[1mforw\u001b[22m at \u001b[1m/home/gridsan/eakyurek/.julia/packages/AutoGrad/eAmjh/src/core.jl:92\u001b[22m [inlined]\n",
      " [3] \u001b[1m*\u001b[22m\u001b[1m(\u001b[22m::AutoGrad.Result{KnetArray{Float32,2}}, ::KnetArray{Float32,2}\u001b[1m)\u001b[22m at \u001b[1m./none:0\u001b[22m\n",
      " [4] \u001b[1m#mlp#4\u001b[22m\u001b[1m(\u001b[22m::Float64, ::Function, ::Function, ::Function, ::Param{Array{Any,1}}, ::KnetArray{Float32,2}\u001b[1m)\u001b[22m at \u001b[1m./In[2]:3\u001b[22m\n",
      " [5] \u001b[1m#mlp\u001b[22m at \u001b[1m./none:0\u001b[22m [inlined]\n",
      " [6] \u001b[1m#D#5\u001b[22m at \u001b[1m./In[3]:2\u001b[22m [inlined]\n",
      " [7] \u001b[1mD\u001b[22m at \u001b[1m./In[3]:2\u001b[22m [inlined]\n",
      " [8] \u001b[1m𝑱d\u001b[22m\u001b[1m(\u001b[22m::Param{Array{Any,1}}, ::KnetArray{Float32,4}, ::KnetArray{Float32,2}\u001b[1m)\u001b[22m at \u001b[1m./In[3]:4\u001b[22m\n",
      " [9] \u001b[1m#differentiate#1\u001b[22m\u001b[1m(\u001b[22m::Base.Iterators.Pairs{Union{},Union{},Tuple{},NamedTuple{(),Tuple{}}}, ::Function, ::Function, ::Param{Array{Any,1}}, ::Vararg{Any,N} where N\u001b[1m)\u001b[22m at \u001b[1m/home/gridsan/eakyurek/.julia/packages/AutoGrad/eAmjh/src/core.jl:57\u001b[22m\n",
      " [10] \u001b[1mdifferentiate\u001b[22m\u001b[1m(\u001b[22m::Function, ::Param{Array{Any,1}}, ::Vararg{Any,N} where N\u001b[1m)\u001b[22m at \u001b[1m/home/gridsan/eakyurek/.julia/packages/AutoGrad/eAmjh/src/core.jl:48\u001b[22m\n",
      " [11] \u001b[1m(::getfield(AutoGrad, Symbol(\"##gradfun#6#7\")){typeof(𝑱d),Int64,Bool})\u001b[22m\u001b[1m(\u001b[22m::Base.Iterators.Pairs{Union{},Union{},Tuple{},NamedTuple{(),Tuple{}}}, ::Function, ::Array{Any,1}, ::Vararg{Any,N} where N\u001b[1m)\u001b[22m at \u001b[1m/home/gridsan/eakyurek/.julia/packages/AutoGrad/eAmjh/src/core.jl:142\u001b[22m\n",
      " [12] \u001b[1m(::getfield(AutoGrad, Symbol(\"#gradfun#8\")){getfield(AutoGrad, Symbol(\"##gradfun#6#7\")){typeof(𝑱d),Int64,Bool}})\u001b[22m\u001b[1m(\u001b[22m::Array{Any,1}, ::Vararg{Any,N} where N\u001b[1m)\u001b[22m at \u001b[1m/home/gridsan/eakyurek/.julia/packages/AutoGrad/eAmjh/src/core.jl:138\u001b[22m\n",
      " [13] \u001b[1m#runmodel#7\u001b[22m\u001b[1m(\u001b[22m::Data, ::Tuple{Array{Adam,1},Array{Adam,1}}, ::Bool, ::Int64, ::Function, ::Tuple{Array{Any,1},Array{Any,1}}, ::Data, ::Dict{Symbol,Any}\u001b[1m)\u001b[22m at \u001b[1m./In[7]:8\u001b[22m\n",
      " [14] \u001b[1m(::getfield(Main, Symbol(\"#kw##runmodel\")))\u001b[22m\u001b[1m(\u001b[22m::NamedTuple{(:optim, :train, :dtst),Tuple{Tuple{Array{Adam,1},Array{Adam,1}},Bool,Data}}, ::typeof(runmodel), ::Tuple{Array{Any,1},Array{Any,1}}, ::Data, ::Dict{Symbol,Any}\u001b[1m)\u001b[22m at \u001b[1m./none:0\u001b[22m\n",
      " [15] top-level scope at \u001b[1mIn[9]:9\u001b[22m\n",
      " [16] \u001b[1meval\u001b[22m at \u001b[1m./boot.jl:319\u001b[22m [inlined]\n",
      " [17] \u001b[1msoftscope_include_string\u001b[22m\u001b[1m(\u001b[22m::Module, ::String, ::String\u001b[1m)\u001b[22m at \u001b[1m/home/gridsan/eakyurek/.julia/packages/SoftGlobalScope/ujmiK/src/SoftGlobalScope.jl:206\u001b[22m\n",
      " [18] \u001b[1mexecute_request\u001b[22m\u001b[1m(\u001b[22m::ZMQ.Socket, ::IJulia.Msg\u001b[1m)\u001b[22m at \u001b[1m/home/gridsan/eakyurek/.julia/packages/IJulia/0cLgR/src/execute_request.jl:224\u001b[22m\n",
      " [19] \u001b[1m#invokelatest#1\u001b[22m at \u001b[1m./essentials.jl:697\u001b[22m [inlined]\n",
      " [20] \u001b[1minvokelatest\u001b[22m at \u001b[1m./essentials.jl:696\u001b[22m [inlined]\n",
      " [21] \u001b[1meventloop\u001b[22m\u001b[1m(\u001b[22m::ZMQ.Socket\u001b[1m)\u001b[22m at \u001b[1m/home/gridsan/eakyurek/.julia/packages/IJulia/0cLgR/src/eventloop.jl:8\u001b[22m\n",
      " [22] \u001b[1m(::getfield(IJulia, Symbol(\"##12#15\")))\u001b[22m\u001b[1m(\u001b[22m\u001b[1m)\u001b[22m at \u001b[1m./task.jl:259\u001b[22m"
     ]
    },
    {
     "ename": "InterruptException",
     "evalue": "InterruptException:",
     "output_type": "error",
     "traceback": [
      "InterruptException:",
      "",
      "Stacktrace:",
      " [1] #differentiate#1(::Base.Iterators.Pairs{Union{},Union{},Tuple{},NamedTuple{(),Tuple{}}}, ::Function, ::Function, ::Param{Array{Any,1}}, ::Vararg{Any,N} where N) at /home/gridsan/eakyurek/.julia/packages/AutoGrad/eAmjh/src/core.jl:60",
      " [2] differentiate(::Function, ::Param{Array{Any,1}}, ::Vararg{Any,N} where N) at /home/gridsan/eakyurek/.julia/packages/AutoGrad/eAmjh/src/core.jl:48",
      " [3] (::getfield(AutoGrad, Symbol(\"##gradfun#6#7\")){typeof(𝑱d),Int64,Bool})(::Base.Iterators.Pairs{Union{},Union{},Tuple{},NamedTuple{(),Tuple{}}}, ::Function, ::Array{Any,1}, ::Vararg{Any,N} where N) at /home/gridsan/eakyurek/.julia/packages/AutoGrad/eAmjh/src/core.jl:142",
      " [4] (::getfield(AutoGrad, Symbol(\"#gradfun#8\")){getfield(AutoGrad, Symbol(\"##gradfun#6#7\")){typeof(𝑱d),Int64,Bool}})(::Array{Any,1}, ::Vararg{Any,N} where N) at /home/gridsan/eakyurek/.julia/packages/AutoGrad/eAmjh/src/core.jl:138",
      " [5] #runmodel#7(::Data, ::Tuple{Array{Adam,1},Array{Adam,1}}, ::Bool, ::Int64, ::Function, ::Tuple{Array{Any,1},Array{Any,1}}, ::Data, ::Dict{Symbol,Any}) at ./In[7]:8",
      " [6] (::getfield(Main, Symbol(\"#kw##runmodel\")))(::NamedTuple{(:optim, :train, :dtst),Tuple{Tuple{Array{Adam,1},Array{Adam,1}},Bool,Data}}, ::typeof(runmodel), ::Tuple{Array{Any,1},Array{Any,1}}, ::Data, ::Dict{Symbol,Any}) at ./none:0",
      " [7] top-level scope at In[9]:9"
     ]
    }
   ],
   "source": [
    "𝞗=Dict(:batchsize=>32,:epochs=>80,:ginp=>256,:genh=>[512],:disch=>[512],:optim=>Adam,:lr=>0.0002);\n",
    "xtrn,ytrn,xtst,ytst = mnist()\n",
    "global dtrn = minibatch(xtrn, ytrn, 𝞗[:batchsize]; xtype=atype)\n",
    "global dtst = minibatch(xtst, ytst, 𝞗[:batchsize]; xtype=atype)\n",
    "𝗪  = (𝗪g,𝗪d)  = initweights(𝞗[:genh], 𝞗[:ginp], 784), initweights(𝞗[:disch], 784, 1)\n",
    "𝚶  = (𝚶pg,𝚶pd) = optimizers(𝗪g, 𝞗[:optim]; lr=𝞗[:lr]), optimizers(𝗪d,𝞗[:optim]; lr=𝞗[:lr])\n",
    "generate_and_show(𝗪,100,𝞗)\n",
    "runmodel(𝗪, dtst, 𝞗; optim=𝚶, train=false) # initial losses\n",
    "runmodel(𝗪, dtrn, 𝞗; optim=𝚶, train=true, dtst=dtst) # training  "
   ]
  }
 ],
 "metadata": {
  "kernelspec": {
   "display_name": "Julia 1.0.1",
   "language": "julia",
   "name": "julia-1.0"
  },
  "language_info": {
   "file_extension": ".jl",
   "mimetype": "application/julia",
   "name": "julia",
   "version": "1.0.1"
  }
 },
 "nbformat": 4,
 "nbformat_minor": 2
}
